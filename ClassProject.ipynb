{
 "cells": [
  {
   "cell_type": "markdown",
   "metadata": {},
   "source": [
    "Ibraheem Saleh\n",
    "\n",
    "CSE 482 - Big Data Analysis\n",
    "\n",
    "Class Project"
   ]
  },
  {
   "cell_type": "code",
   "execution_count": 138,
   "metadata": {},
   "outputs": [
    {
     "data": {
      "text/html": [
       "<div>\n",
       "<style scoped>\n",
       "    .dataframe tbody tr th:only-of-type {\n",
       "        vertical-align: middle;\n",
       "    }\n",
       "\n",
       "    .dataframe tbody tr th {\n",
       "        vertical-align: top;\n",
       "    }\n",
       "\n",
       "    .dataframe thead th {\n",
       "        text-align: right;\n",
       "    }\n",
       "</style>\n",
       "<table border=\"1\" class=\"dataframe\">\n",
       "  <thead>\n",
       "    <tr style=\"text-align: right;\">\n",
       "      <th></th>\n",
       "      <th>Incident Date</th>\n",
       "      <th>Incident Time</th>\n",
       "      <th>Offense Category</th>\n",
       "      <th>Day of Week</th>\n",
       "      <th>Neighborhood</th>\n",
       "    </tr>\n",
       "  </thead>\n",
       "  <tbody>\n",
       "    <tr>\n",
       "      <th>0</th>\n",
       "      <td>3/12/19</td>\n",
       "      <td>530</td>\n",
       "      <td>ASSAULT</td>\n",
       "      <td>Weekday</td>\n",
       "      <td>Palmer Woods</td>\n",
       "    </tr>\n",
       "    <tr>\n",
       "      <th>1</th>\n",
       "      <td>3/12/19</td>\n",
       "      <td>523</td>\n",
       "      <td>ASSAULT</td>\n",
       "      <td>Weekday</td>\n",
       "      <td>Garden Homes</td>\n",
       "    </tr>\n",
       "    <tr>\n",
       "      <th>2</th>\n",
       "      <td>3/12/19</td>\n",
       "      <td>503</td>\n",
       "      <td>ASSAULT</td>\n",
       "      <td>Weekday</td>\n",
       "      <td>Nortown</td>\n",
       "    </tr>\n",
       "    <tr>\n",
       "      <th>3</th>\n",
       "      <td>3/12/19</td>\n",
       "      <td>411</td>\n",
       "      <td>ASSAULT</td>\n",
       "      <td>Weekday</td>\n",
       "      <td>Warrendale</td>\n",
       "    </tr>\n",
       "    <tr>\n",
       "      <th>4</th>\n",
       "      <td>3/12/19</td>\n",
       "      <td>405</td>\n",
       "      <td>DAMAGE TO PROPERTY</td>\n",
       "      <td>Weekday</td>\n",
       "      <td>Franklin Park</td>\n",
       "    </tr>\n",
       "    <tr>\n",
       "      <th>5</th>\n",
       "      <td>3/12/19</td>\n",
       "      <td>405</td>\n",
       "      <td>AGGRAVATED ASSAULT</td>\n",
       "      <td>Weekday</td>\n",
       "      <td>Franklin Park</td>\n",
       "    </tr>\n",
       "    <tr>\n",
       "      <th>6</th>\n",
       "      <td>3/12/19</td>\n",
       "      <td>330</td>\n",
       "      <td>LARCENY</td>\n",
       "      <td>Weekday</td>\n",
       "      <td>Midtown</td>\n",
       "    </tr>\n",
       "    <tr>\n",
       "      <th>7</th>\n",
       "      <td>3/12/19</td>\n",
       "      <td>230</td>\n",
       "      <td>ASSAULT</td>\n",
       "      <td>Weekday</td>\n",
       "      <td>Grand River-St Marys</td>\n",
       "    </tr>\n",
       "    <tr>\n",
       "      <th>8</th>\n",
       "      <td>3/12/19</td>\n",
       "      <td>207</td>\n",
       "      <td>BURGLARY</td>\n",
       "      <td>Weekday</td>\n",
       "      <td>Bagley</td>\n",
       "    </tr>\n",
       "    <tr>\n",
       "      <th>9</th>\n",
       "      <td>3/12/19</td>\n",
       "      <td>157</td>\n",
       "      <td>ASSAULT</td>\n",
       "      <td>Weekday</td>\n",
       "      <td>Farwell</td>\n",
       "    </tr>\n",
       "  </tbody>\n",
       "</table>\n",
       "</div>"
      ],
      "text/plain": [
       "  Incident Date  Incident Time    Offense Category Day of Week  \\\n",
       "0       3/12/19            530             ASSAULT     Weekday   \n",
       "1       3/12/19            523             ASSAULT     Weekday   \n",
       "2       3/12/19            503             ASSAULT     Weekday   \n",
       "3       3/12/19            411             ASSAULT     Weekday   \n",
       "4       3/12/19            405  DAMAGE TO PROPERTY     Weekday   \n",
       "5       3/12/19            405  AGGRAVATED ASSAULT     Weekday   \n",
       "6       3/12/19            330             LARCENY     Weekday   \n",
       "7       3/12/19            230             ASSAULT     Weekday   \n",
       "8       3/12/19            207            BURGLARY     Weekday   \n",
       "9       3/12/19            157             ASSAULT     Weekday   \n",
       "\n",
       "           Neighborhood  \n",
       "0          Palmer Woods  \n",
       "1          Garden Homes  \n",
       "2               Nortown  \n",
       "3            Warrendale  \n",
       "4         Franklin Park  \n",
       "5         Franklin Park  \n",
       "6               Midtown  \n",
       "7  Grand River-St Marys  \n",
       "8                Bagley  \n",
       "9               Farwell  "
      ]
     },
     "execution_count": 138,
     "metadata": {},
     "output_type": "execute_result"
    }
   ],
   "source": [
    "import pandas as dataTable\n",
    "%matplotlib inline\n",
    "\n",
    "# Load data using pandas read_csv (185404 rows of data)\n",
    "data = dataTable.read_csv(\"EntireDataSetDetroit.csv\", header = 0)\n",
    "\n",
    "# display the first 10 rows\n",
    "data.head(10)"
   ]
  },
  {
   "cell_type": "code",
   "execution_count": 139,
   "metadata": {},
   "outputs": [],
   "source": [
    "dayOfWeek = data['Day of Week']\n",
    "plotVal = data.drop('Day of Week', axis = 1)\n",
    "plotVal = plotVal.drop('Incident Date', axis = 1)\n",
    "#plotVal = plotVal.drop('Incident Time', axis = 1)\n",
    "plotVal = plotVal.drop('Offense Category', axis = 1)\n"
   ]
  },
  {
   "cell_type": "code",
   "execution_count": 140,
   "metadata": {},
   "outputs": [],
   "source": [
    "from sklearn.model_selection import train_test_split\n",
    "plotVal = plotVal.drop('Neighborhood', axis = 1)\n",
    "X_train, X_test, y_train, y_test = train_test_split(plotVal, dayOfWeek, test_size = 0.3 , random_state = 1)\n"
   ]
  },
  {
   "cell_type": "code",
   "execution_count": 141,
   "metadata": {},
   "outputs": [],
   "source": [
    "import numpy as np\n",
    "from sklearn import tree\n",
    "from sklearn.metrics import accuracy_score\n",
    "from sklearn.model_selection import cross_val_score\n",
    "import matplotlib.pyplot as plt\n",
    "%matplotlib inline\n",
    "\n",
    "maxdepths = [1,5,10,20,30,40,50]\n",
    "validationAcc = np.zeros(len(maxdepths))\n",
    "testAcc = np.zeros(len(maxdepths))\n",
    "index = 0\n",
    "\n",
    "np.random.seed(1)\n",
    "for depth in maxdepths:\n",
    "    clf = tree.DecisionTreeClassifier(max_depth = depth)\n",
    "    scores = cross_val_score(clf, X_train, y_train, cv = 10)\n",
    "    validationAcc[index] = np.mean(scores)\n",
    "    clf.fit( X_train, y_train )\n",
    "    Y_predTest = clf.predict(X_test)\n",
    "    testAcc[index] = accuracy_score(y_test, Y_predTest)\n",
    "    index += 1"
   ]
  },
  {
   "cell_type": "code",
   "execution_count": 142,
   "metadata": {},
   "outputs": [
    {
     "name": "stdout",
     "output_type": "stream",
     "text": [
      "Best hyperparameter, maxdepth = 1\n",
      "Test Accuracy = 0.7227665809676201\n"
     ]
    },
    {
     "data": {
      "image/png": "[encoded data removed]",
      "text/plain": [
       "<Figure size 432x288 with 1 Axes>"
      ]
     },
     "metadata": {
      "needs_background": "light"
     },
     "output_type": "display_data"
    }
   ],
   "source": [
    "plt.plot(maxdepths, validationAcc, 'ro--', maxdepths, testAcc, 'kv-')\n",
    "plt.xlabel('Maximum depth')\n",
    "plt.ylabel('Accuracy')\n",
    "plt.title('Decision tree')\n",
    "plt.legend(['Validation','Testing'])\n",
    "plt.ylim([0.0,1.0])\n",
    "\n",
    "bestHyperparam = np.argmax(validationAcc)\n",
    "print('Best hyperparameter, maxdepth =', maxdepths[bestHyperparam])\n",
    "print('Test Accuracy =', testAcc[bestHyperparam])"
   ]
  },
  {
   "cell_type": "code",
   "execution_count": 143,
   "metadata": {},
   "outputs": [
    {
     "name": "stdout",
     "output_type": "stream",
     "text": [
      "Test Accuracy = 0.7212024235450639\n"
     ]
    }
   ],
   "source": [
    "from sklearn import ensemble\n",
    "from sklearn.tree import DecisionTreeClassifier\n",
    "\n",
    "numEstimators = 500\n",
    "np.random.seed(1)\n",
    "clf = ensemble.RandomForestClassifier( n_estimators=numEstimators )\n",
    "clf.fit( X_train, y_train )\n",
    "Y_pred = clf.predict( X_test )\n",
    "print('Test Accuracy =', accuracy_score( y_test, Y_pred ))"
   ]
  },
  {
   "cell_type": "code",
   "execution_count": 144,
   "metadata": {},
   "outputs": [
    {
     "data": {
      "text/plain": [
       "(array([1.26695e+05, 0.00000e+00, 5.47040e+04, 0.00000e+00, 0.00000e+00,\n",
       "        3.80400e+03, 0.00000e+00, 1.37000e+02, 0.00000e+00, 6.30000e+01]),\n",
       " array([0. , 0.4, 0.8, 1.2, 1.6, 2. , 2.4, 2.8, 3.2, 3.6, 4. ]),\n",
       " <a list of 10 Patch objects>)"
      ]
     },
     "execution_count": 144,
     "metadata": {},
     "output_type": "execute_result"
    },
    {
     "data": {
      "image/png": "[encoded data removed]",
      "text/plain": [
       "<Figure size 432x288 with 1 Axes>"
      ]
     },
     "metadata": {
      "needs_background": "light"
     },
     "output_type": "display_data"
    }
   ],
   "source": [
    "from sklearn.neighbors import NearestNeighbors\n",
    "import numpy as np\n",
    "from scipy.spatial import distance\n",
    "import matplotlib.pyplot as plt\n",
    "\n",
    "%matplotlib inline\n",
    "\n",
    "knn = 100\n",
    "nbrs = NearestNeighbors(n_neighbors = knn + 1).fit(plotVal)\n",
    "distances, indices = nbrs.kneighbors(plotVal.values)\n",
    "ax = plt.axes(yscale = 'log')\n",
    "ax.hist(distances[:,knn])"
   ]
  },
  {
   "cell_type": "code",
   "execution_count": 145,
   "metadata": {},
   "outputs": [],
   "source": [
    "outlier = np.flipud(np.argsort(distances[:,knn]))\n",
    "sort_dist = np.flipud(np.sort(distances[:,knn]))"
   ]
  },
  {
   "cell_type": "code",
   "execution_count": 146,
   "metadata": {},
   "outputs": [
    {
     "data": {
      "text/html": [
       "<div>\n",
       "<style scoped>\n",
       "    .dataframe tbody tr th:only-of-type {\n",
       "        vertical-align: middle;\n",
       "    }\n",
       "\n",
       "    .dataframe tbody tr th {\n",
       "        vertical-align: top;\n",
       "    }\n",
       "\n",
       "    .dataframe thead th {\n",
       "        text-align: right;\n",
       "    }\n",
       "</style>\n",
       "<table border=\"1\" class=\"dataframe\">\n",
       "  <thead>\n",
       "    <tr style=\"text-align: right;\">\n",
       "      <th></th>\n",
       "      <th>index</th>\n",
       "      <th>score</th>\n",
       "    </tr>\n",
       "  </thead>\n",
       "  <tbody>\n",
       "    <tr>\n",
       "      <th>0</th>\n",
       "      <td>155341.0</td>\n",
       "      <td>4.0</td>\n",
       "    </tr>\n",
       "    <tr>\n",
       "      <th>1</th>\n",
       "      <td>130134.0</td>\n",
       "      <td>4.0</td>\n",
       "    </tr>\n",
       "    <tr>\n",
       "      <th>2</th>\n",
       "      <td>176379.0</td>\n",
       "      <td>4.0</td>\n",
       "    </tr>\n",
       "    <tr>\n",
       "      <th>3</th>\n",
       "      <td>26009.0</td>\n",
       "      <td>4.0</td>\n",
       "    </tr>\n",
       "    <tr>\n",
       "      <th>4</th>\n",
       "      <td>114824.0</td>\n",
       "      <td>4.0</td>\n",
       "    </tr>\n",
       "  </tbody>\n",
       "</table>\n",
       "</div>"
      ],
      "text/plain": [
       "      index  score\n",
       "0  155341.0    4.0\n",
       "1  130134.0    4.0\n",
       "2  176379.0    4.0\n",
       "3   26009.0    4.0\n",
       "4  114824.0    4.0"
      ]
     },
     "execution_count": 146,
     "metadata": {},
     "output_type": "execute_result"
    }
   ],
   "source": [
    "p = dataTable.DataFrame(np.column_stack((outlier,sort_dist)),columns=['index','score'])\n",
    "p.head()"
   ]
  },
  {
   "cell_type": "code",
   "execution_count": 147,
   "metadata": {},
   "outputs": [
    {
     "name": "stdout",
     "output_type": "stream",
     "text": [
      "Area under ROC = 0.5075\n"
     ]
    },
    {
     "data": {
      "image/png": "[encoded data removed]",
      "text/plain": [
       "<Figure size 432x288 with 1 Axes>"
      ]
     },
     "metadata": {
      "needs_background": "light"
     },
     "output_type": "display_data"
    }
   ],
   "source": [
    "from sklearn.metrics import roc_curve, auc\n",
    "%matplotlib inline\n",
    "\n",
    "checkDay = (dayOfWeek == 'Weekend')\n",
    "\n",
    "fpr, tpr, thresholds = roc_curve(checkDay, distances[:,knn])\n",
    "roc_auc = auc( fpr,tpr )\n",
    "plt.plot(fpr, tpr)\n",
    "print('Area under ROC = %.4f' % (roc_auc))"
   ]
  },
  {
   "cell_type": "code",
   "execution_count": 148,
   "metadata": {},
   "outputs": [],
   "source": [
    "from surprise import Dataset\n",
    "from surprise import Reader\n",
    "\n",
    "import pandas as dataTable\n",
    "\n",
    "data = dataTable.read_csv(\"EntireDataSetDetroit.csv\")"
   ]
  },
  {
   "cell_type": "code",
   "execution_count": 149,
   "metadata": {},
   "outputs": [
    {
     "data": {
      "text/plain": [
       "[('Palmer Woods', 'Weekday', 531.0, None),\n",
       " ('Garden Homes', 'Weekday', 524.0, None),\n",
       " ('Nortown', 'Weekday', 504.0, None),\n",
       " ('Warrendale', 'Weekday', 412.0, None),\n",
       " ('Franklin Park', 'Weekday', 406.0, None)]"
      ]
     },
     "execution_count": 149,
     "metadata": {},
     "output_type": "execute_result"
    }
   ],
   "source": [
    "reader = Reader(line_format='user item rating', sep=',', rating_scale=(0,10))\n",
    "data = Dataset.load_from_df(data[['Neighborhood', 'Day of Week', 'Incident Time']], reader=reader)\n",
    "data.raw_ratings[:5]"
   ]
  },
  {
   "cell_type": "code",
   "execution_count": 150,
   "metadata": {},
   "outputs": [
    {
     "data": {
      "text/plain": [
       "<surprise.prediction_algorithms.matrix_factorization.NMF at 0x11aa4f2b0>"
      ]
     },
     "execution_count": 150,
     "metadata": {},
     "output_type": "execute_result"
    }
   ],
   "source": [
    "from surprise import NMF\n",
    "from surprise.model_selection import train_test_split\n",
    "\n",
    "trainset, testset = train_test_split(data, test_size = 0.5, random_state = 1 )\n",
    "\n",
    "algo = NMF( n_factors = 20, n_epochs = 200, random_state = 1 )\n",
    "algo.fit( trainset )"
   ]
  },
  {
   "cell_type": "code",
   "execution_count": 151,
   "metadata": {},
   "outputs": [
    {
     "name": "stdout",
     "output_type": "stream",
     "text": [
      "RMSE: 1446.6425\n",
      "MAE:  1260.9573\n"
     ]
    },
    {
     "data": {
      "text/plain": [
       "(1446.642475298819, 1260.9572625594967)"
      ]
     },
     "execution_count": 151,
     "metadata": {},
     "output_type": "execute_result"
    }
   ],
   "source": [
    "#Inaccurate due to larger time period\n",
    "#Data is not split up, based on 24 hour time period\n",
    "from surprise import accuracy\n",
    "\n",
    "pred = algo.test( testset )\n",
    "accuracy.rmse( pred ), accuracy.mae( pred )"
   ]
  },
  {
   "cell_type": "code",
   "execution_count": 152,
   "metadata": {},
   "outputs": [
    {
     "name": "stdout",
     "output_type": "stream",
     "text": [
      "user: Northeast Central District item: Weekday    r_ui = 343.00   est = 10.00   {'was_impossible': False}\n",
      "user: West End   item: Weekday    r_ui = 1145.00   est = 10.00   {'was_impossible': False}\n",
      "user: Oak Grove  item: Weekend    r_ui = 240.00   est = 10.00   {'was_impossible': False}\n",
      "user: Airport Sub item: Weekday    r_ui = 1700.00   est = 10.00   {'was_impossible': False}\n",
      "user: Plymouth-Hubbell item: Weekday    r_ui = 334.00   est = 10.00   {'was_impossible': False}\n",
      "user: Poletown East item: Weekday    r_ui = 1314.00   est = 10.00   {'was_impossible': False}\n",
      "user: Morningside item: Weekday    r_ui = 1130.00   est = 10.00   {'was_impossible': False}\n",
      "user: Minock Park item: Weekend    r_ui = 1839.00   est = 10.00   {'was_impossible': False}\n",
      "user: Fox Creek  item: Weekend    r_ui = 130.00   est = 10.00   {'was_impossible': False}\n",
      "user: Brightmoor item: Weekend    r_ui = 928.00   est = 10.00   {'was_impossible': False}\n"
     ]
    }
   ],
   "source": [
    "for i in range(10):\n",
    "    print(pred[i])"
   ]
  },
  {
   "cell_type": "code",
   "execution_count": 153,
   "metadata": {},
   "outputs": [],
   "source": [
    "from surprise import Dataset\n",
    "from surprise import Reader\n",
    "\n",
    "import pandas as dataTable\n",
    "\n",
    "data = dataTable.read_csv(\"EntireDataSetDetroit.csv\")"
   ]
  },
  {
   "cell_type": "code",
   "execution_count": 154,
   "metadata": {},
   "outputs": [
    {
     "data": {
      "text/plain": [
       "[('Palmer Woods', '3/12/19', 531.0, None),\n",
       " ('Garden Homes', '3/12/19', 524.0, None),\n",
       " ('Nortown', '3/12/19', 504.0, None),\n",
       " ('Warrendale', '3/12/19', 412.0, None),\n",
       " ('Franklin Park', '3/12/19', 406.0, None)]"
      ]
     },
     "execution_count": 154,
     "metadata": {},
     "output_type": "execute_result"
    }
   ],
   "source": [
    "reader = Reader(line_format='user item rating', sep=',', rating_scale=(0,10))\n",
    "data = Dataset.load_from_df(data[['Neighborhood', 'Incident Date', 'Incident Time']], reader=reader)\n",
    "data.raw_ratings[:5]"
   ]
  },
  {
   "cell_type": "code",
   "execution_count": 155,
   "metadata": {},
   "outputs": [
    {
     "data": {
      "text/plain": [
       "<surprise.prediction_algorithms.matrix_factorization.NMF at 0x11b8fb860>"
      ]
     },
     "execution_count": 155,
     "metadata": {},
     "output_type": "execute_result"
    }
   ],
   "source": [
    "from surprise import NMF\n",
    "from surprise.model_selection import train_test_split\n",
    "\n",
    "trainset, testset = train_test_split(data, test_size = 0.5, random_state = 1 )\n",
    "\n",
    "algo = NMF( n_factors = 20, n_epochs = 200, random_state = 1 )\n",
    "algo.fit( trainset )"
   ]
  },
  {
   "cell_type": "code",
   "execution_count": 156,
   "metadata": {},
   "outputs": [
    {
     "name": "stdout",
     "output_type": "stream",
     "text": [
      "RMSE: 1446.6641\n",
      "MAE:  1260.9792\n"
     ]
    },
    {
     "data": {
      "text/plain": [
       "(1446.664136706908, 1260.9792489334445)"
      ]
     },
     "execution_count": 156,
     "metadata": {},
     "output_type": "execute_result"
    }
   ],
   "source": [
    "#Calculations are similar but not exactly like predicted time's of occurrence before\n",
    "from surprise import accuracy\n",
    "\n",
    "pred = algo.test( testset )\n",
    "accuracy.rmse( pred ), accuracy.mae( pred )"
   ]
  },
  {
   "cell_type": "code",
   "execution_count": 161,
   "metadata": {},
   "outputs": [
    {
     "name": "stdout",
     "output_type": "stream",
     "text": [
      "user: Northeast Central District item: 2/1/19     r_ui = 343.00   est = 10.00   {'was_impossible': False}\n",
      "user: West End   item: 2/14/18    r_ui = 1145.00   est = 10.00   {'was_impossible': False}\n",
      "user: Oak Grove  item: 12/11/16   r_ui = 240.00   est = 10.00   {'was_impossible': False}\n",
      "user: Airport Sub item: 2/15/18    r_ui = 1700.00   est = 10.00   {'was_impossible': False}\n",
      "user: Plymouth-Hubbell item: 2/26/18    r_ui = 334.00   est = 10.00   {'was_impossible': False}\n",
      "user: Poletown East item: 10/29/18   r_ui = 1314.00   est = 10.00   {'was_impossible': False}\n",
      "user: Morningside item: 5/22/18    r_ui = 1130.00   est = 10.00   {'was_impossible': False}\n",
      "user: Minock Park item: 8/26/17    r_ui = 1839.00   est = 10.00   {'was_impossible': False}\n",
      "user: Fox Creek  item: 1/19/19    r_ui = 130.00   est = 10.00   {'was_impossible': False}\n",
      "user: Brightmoor item: 1/13/18    r_ui = 928.00   est = 10.00   {'was_impossible': False}\n",
      "user: Wade       item: 10/15/18   r_ui = 1800.00   est = 10.00   {'was_impossible': False}\n",
      "user: Greenfield-Grand River item: 9/11/18    r_ui = 2021.00   est = 10.00   {'was_impossible': False}\n",
      "user: Harmony Village item: 2/4/19     r_ui = 759.00   est = 10.00   {'was_impossible': False}\n",
      "user: Mexicantown item: 7/16/18    r_ui = 2331.00   est = 10.00   {'was_impossible': False}\n",
      "user: Central Southwest item: 8/26/18    r_ui = 110.00   est = 10.00   {'was_impossible': False}\n",
      "user: Bethune Community item: 5/23/17    r_ui = 1311.00   est = 10.00   {'was_impossible': False}\n",
      "user: Dexter-Linwood item: 8/26/17    r_ui = 1800.00   est = 10.00   {'was_impossible': False}\n",
      "user: Cornerstone Village item: 9/8/18     r_ui = 221.00   est = 10.00   {'was_impossible': False}\n",
      "user: Evergreen Lahser 7/8 item: 4/15/18    r_ui = 600.00   est = 10.00   {'was_impossible': False}\n",
      "user: Islandview item: 5/1/18     r_ui = 1400.00   est = 10.00   {'was_impossible': False}\n"
     ]
    }
   ],
   "source": [
    "for i in range(20):\n",
    "    print(pred[i])"
   ]
  },
  {
   "cell_type": "code",
   "execution_count": null,
   "metadata": {},
   "outputs": [],
   "source": []
  }
 ],
 "metadata": {
  "kernelspec": {
   "display_name": "Python 3",
   "language": "python",
   "name": "python3"
  },
  "language_info": {
   "codemirror_mode": {
    "name": "ipython",
    "version": 3
   },
   "file_extension": ".py",
   "mimetype": "text/x-python",
   "name": "python",
   "nbconvert_exporter": "python",
   "pygments_lexer": "ipython3",
   "version": "3.7.1"
  }
 },
 "nbformat": 4,
 "nbformat_minor": 2
}
